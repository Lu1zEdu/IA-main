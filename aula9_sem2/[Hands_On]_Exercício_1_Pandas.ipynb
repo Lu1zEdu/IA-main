{
 "cells": [
  {
   "cell_type": "code",
   "execution_count": 2,
   "metadata": {
    "executionInfo": {
     "elapsed": 1358,
     "status": "ok",
     "timestamp": 1725023383419,
     "user": {
      "displayName": "Luiz Edu",
      "userId": "11278711956732496560"
     },
     "user_tz": 180
    },
    "id": "ifO9n3es6lZi"
   },
   "outputs": [],
   "source": [
    "import pandas as pd"
   ]
  },
  {
   "cell_type": "markdown",
   "metadata": {
    "id": "RglY5TWE8nXS"
   },
   "source": [
    "# 1 - Faça a leitura do Dataset exercicio_1.csv"
   ]
  },
  {
   "cell_type": "code",
   "execution_count": 3,
   "metadata": {
    "colab": {
     "base_uri": "https://localhost:8080/",
     "height": 339
    },
    "executionInfo": {
     "elapsed": 479,
     "status": "error",
     "timestamp": 1725023398450,
     "user": {
      "displayName": "Luiz Edu",
      "userId": "11278711956732496560"
     },
     "user_tz": 180
    },
    "id": "n-79YaKT6xLg",
    "outputId": "6c7e3d09-a401-4570-f87d-d3948bddd948"
   },
   "outputs": [
    {
     "data": {
      "text/html": [
       "<div>\n",
       "<style scoped>\n",
       "    .dataframe tbody tr th:only-of-type {\n",
       "        vertical-align: middle;\n",
       "    }\n",
       "\n",
       "    .dataframe tbody tr th {\n",
       "        vertical-align: top;\n",
       "    }\n",
       "\n",
       "    .dataframe thead th {\n",
       "        text-align: right;\n",
       "    }\n",
       "</style>\n",
       "<table border=\"1\" class=\"dataframe\">\n",
       "  <thead>\n",
       "    <tr style=\"text-align: right;\">\n",
       "      <th></th>\n",
       "      <th>id_venda</th>\n",
       "      <th>nome_produto</th>\n",
       "      <th>vendas</th>\n",
       "      <th>custo</th>\n",
       "      <th>preco</th>\n",
       "    </tr>\n",
       "  </thead>\n",
       "  <tbody>\n",
       "    <tr>\n",
       "      <th>0</th>\n",
       "      <td>1</td>\n",
       "      <td>Lindt</td>\n",
       "      <td>150</td>\n",
       "      <td>5.0</td>\n",
       "      <td>8.0</td>\n",
       "    </tr>\n",
       "    <tr>\n",
       "      <th>1</th>\n",
       "      <td>2</td>\n",
       "      <td>Cadbury</td>\n",
       "      <td>200</td>\n",
       "      <td>3.0</td>\n",
       "      <td>6.0</td>\n",
       "    </tr>\n",
       "    <tr>\n",
       "      <th>2</th>\n",
       "      <td>3</td>\n",
       "      <td>Hershey's</td>\n",
       "      <td>180</td>\n",
       "      <td>4.0</td>\n",
       "      <td>7.0</td>\n",
       "    </tr>\n",
       "    <tr>\n",
       "      <th>3</th>\n",
       "      <td>4</td>\n",
       "      <td>Lindt</td>\n",
       "      <td>120</td>\n",
       "      <td>5.0</td>\n",
       "      <td>8.0</td>\n",
       "    </tr>\n",
       "    <tr>\n",
       "      <th>4</th>\n",
       "      <td>5</td>\n",
       "      <td>Cadbury</td>\n",
       "      <td>170</td>\n",
       "      <td>3.0</td>\n",
       "      <td>6.0</td>\n",
       "    </tr>\n",
       "  </tbody>\n",
       "</table>\n",
       "</div>"
      ],
      "text/plain": [
       "   id_venda nome_produto  vendas  custo  preco\n",
       "0         1        Lindt     150    5.0    8.0\n",
       "1         2      Cadbury     200    3.0    6.0\n",
       "2         3    Hershey's     180    4.0    7.0\n",
       "3         4        Lindt     120    5.0    8.0\n",
       "4         5      Cadbury     170    3.0    6.0"
      ]
     },
     "execution_count": 3,
     "metadata": {},
     "output_type": "execute_result"
    }
   ],
   "source": [
    "#Utilize o parâmetro sep=\";\" para leitura do Dataset\n",
    "df = pd.read_csv('./exercicio_1.csv', sep=';')\n",
    "df.head()"
   ]
  },
  {
   "cell_type": "markdown",
   "metadata": {
    "id": "QcmanOkC816s"
   },
   "source": [
    "## 2 - Crie uma nova coluna com o nome df[\"margem_lucro\"] com o cálculo: margem_lucro = preco - custo"
   ]
  },
  {
   "cell_type": "code",
   "execution_count": 4,
   "metadata": {
    "id": "Sui9bTw89EWU"
   },
   "outputs": [
    {
     "name": "stdout",
     "output_type": "stream",
     "text": [
      "   id_venda nome_produto  vendas  custo  preco  nova_coluna\n",
      "0         1        Lindt     150    5.0    8.0            0\n",
      "1         2      Cadbury     200    3.0    6.0            0\n",
      "2         3    Hershey's     180    4.0    7.0            0\n",
      "3         4        Lindt     120    5.0    8.0            0\n",
      "4         5      Cadbury     170    3.0    6.0            0\n"
     ]
    }
   ],
   "source": [
    "df = pd.read_csv('exercicio_1.csv', sep=';')\n",
    "\n",
    "# Adicionando uma nova coluna chamada 'nova_coluna' com valores padrão (por exemplo, 0)\n",
    "df['nova_coluna'] = 0\n",
    "\n",
    "# Exibindo as primeiras linhas do DataFrame com a nova coluna\n",
    "print(df.head())\n",
    "\n"
   ]
  },
  {
   "cell_type": "markdown",
   "metadata": {
    "id": "y0oxC4_o9upa"
   },
   "source": [
    "## 3 - Filtre as vendas para uma marca específica. Escolha a marca Lindt e exiba todas as suas vendas."
   ]
  },
  {
   "cell_type": "code",
   "execution_count": 5,
   "metadata": {
    "id": "ADCSxQeO9y53"
   },
   "outputs": [
    {
     "name": "stdout",
     "output_type": "stream",
     "text": [
      "   id_venda nome_produto  vendas  custo  preco\n",
      "0         1        Lindt     150    5.0    8.0\n",
      "1         2      Cadbury     200    3.0    6.0\n",
      "2         3    Hershey's     180    4.0    7.0\n",
      "3         4        Lindt     120    5.0    8.0\n",
      "4         5      Cadbury     170    3.0    6.0\n",
      "   id_venda nome_produto  vendas  custo  preco\n",
      "0         1        Lindt     150    5.0    8.0\n",
      "3         4        Lindt     120    5.0    8.0\n"
     ]
    }
   ],
   "source": [
    "import pandas as pd\n",
    "\n",
    "# Leitura do arquivo CSV\n",
    "df = pd.read_csv('exercicio_1.csv', sep=';')\n",
    "\n",
    "# Exibir as primeiras linhas para verificar as colunas\n",
    "print(df.head())\n",
    "\n",
    "# Supondo que a coluna que contém a marca seja chamada 'marca'\n",
    "# Filtrar as vendas para a marca 'Lindt'\n",
    "df_lindt = df[df['nome_produto'] == 'Lindt']\n",
    "\n",
    "# Exibir todas as vendas para a marca 'Lindt'\n",
    "print(df_lindt)\n"
   ]
  },
  {
   "cell_type": "markdown",
   "metadata": {
    "id": "truB-RYS-F5m"
   },
   "source": [
    "\n",
    "## 4 - Qual a soma de vendas do produto 'Cadbury' ?"
   ]
  },
  {
   "cell_type": "markdown",
   "metadata": {
    "id": "0xBPTbN9_dcg"
   },
   "source": []
  },
  {
   "cell_type": "code",
   "execution_count": 6,
   "metadata": {
    "id": "duaWarNo-WxJ"
   },
   "outputs": [
    {
     "name": "stdout",
     "output_type": "stream",
     "text": [
      "   id_venda nome_produto  vendas  custo  preco\n",
      "0         1        Lindt     150    5.0    8.0\n",
      "1         2      Cadbury     200    3.0    6.0\n",
      "2         3    Hershey's     180    4.0    7.0\n",
      "3         4        Lindt     120    5.0    8.0\n",
      "4         5      Cadbury     170    3.0    6.0\n",
      "Soma das vendas do produto 'Cadbury': 370\n"
     ]
    }
   ],
   "source": [
    "df = pd.read_csv('exercicio_1.csv', sep=';')\n",
    "print(df.head())\n",
    "df_cadbury = df[df['nome_produto'] == 'Cadbury']\n",
    "soma_vendas_cadbury = df_cadbury['vendas'].sum()\n",
    "print(f\"Soma das vendas do produto 'Cadbury': {soma_vendas_cadbury}\")"
   ]
  },
  {
   "cell_type": "markdown",
   "metadata": {
    "id": "rPTU6YXFHQWG"
   },
   "source": [
    "## 5 - (Extra) Ordene o dataset com a soma da coluna de vendas por produto?\n",
    "Dica: Realizar agrupamento por produto realizando a soma da coluna vendas, por fim ordenar pelo novo valor da soma final.\n"
   ]
  },
  {
   "cell_type": "code",
   "execution_count": 7,
   "metadata": {
    "id": "76hKo6LYHa1c"
   },
   "outputs": [
    {
     "name": "stdout",
     "output_type": "stream",
     "text": [
      "   id_venda nome_produto  vendas  custo  preco\n",
      "0         1        Lindt     150    5.0    8.0\n",
      "1         2      Cadbury     200    3.0    6.0\n",
      "2         3    Hershey's     180    4.0    7.0\n",
      "3         4        Lindt     120    5.0    8.0\n",
      "4         5      Cadbury     170    3.0    6.0\n",
      "  nome_produto  vendas\n",
      "0      Cadbury     370\n",
      "1    Hershey's     370\n",
      "2        Lindt     270\n"
     ]
    }
   ],
   "source": [
    "# Leitura do arquivo CSV\n",
    "df = pd.read_csv('exercicio_1.csv', sep=';')\n",
    "\n",
    "# Exibir as primeiras linhas para verificar as colunas\n",
    "print(df.head())\n",
    "\n",
    "# Agrupar por produto e calcular a soma das vendas\n",
    "df_agrupado = df.groupby('nome_produto')['vendas'].sum().reset_index()\n",
    "\n",
    "# Ordenar pelo valor da soma das vendas em ordem decrescente\n",
    "df_ordenado = df_agrupado.sort_values(by='vendas', ascending=False)\n",
    "\n",
    "# Exibir o DataFrame ordenado\n",
    "print(df_ordenado)"
   ]
  },
  {
   "cell_type": "code",
   "execution_count": null,
   "metadata": {
    "colab": {
     "base_uri": "https://localhost:8080/"
    },
    "executionInfo": {
     "elapsed": 4558,
     "status": "ok",
     "timestamp": 1724966462728,
     "user": {
      "displayName": "Luiz Edu",
      "userId": "11278711956732496560"
     },
     "user_tz": 180
    },
    "id": "0RToCTWnARL3",
    "outputId": "53dbe4b8-909f-46ac-f4d4-95132c38dae6"
   },
   "outputs": [
    {
     "name": "stdout",
     "output_type": "stream",
     "text": [
      "Requirement already satisfied: rpy2 in /usr/local/lib/python3.10/dist-packages (3.4.2)\n",
      "Requirement already satisfied: cffi>=1.10.0 in /usr/local/lib/python3.10/dist-packages (from rpy2) (1.17.0)\n",
      "Requirement already satisfied: jinja2 in /usr/local/lib/python3.10/dist-packages (from rpy2) (3.1.4)\n",
      "Requirement already satisfied: pytz in /usr/local/lib/python3.10/dist-packages (from rpy2) (2024.1)\n",
      "Requirement already satisfied: tzlocal in /usr/local/lib/python3.10/dist-packages (from rpy2) (5.2)\n",
      "Requirement already satisfied: pycparser in /usr/local/lib/python3.10/dist-packages (from cffi>=1.10.0->rpy2) (2.22)\n",
      "Requirement already satisfied: MarkupSafe>=2.0 in /usr/local/lib/python3.10/dist-packages (from jinja2->rpy2) (2.1.5)\n"
     ]
    }
   ],
   "source": [
    "!pip install rpy2"
   ]
  },
  {
   "cell_type": "code",
   "execution_count": null,
   "metadata": {
    "id": "7sDvGVcTAS0r"
   },
   "outputs": [],
   "source": [
    "%load_ext rpy2.ipython"
   ]
  },
  {
   "cell_type": "code",
   "execution_count": null,
   "metadata": {
    "colab": {
     "base_uri": "https://localhost:8080/",
     "height": 1000
    },
    "executionInfo": {
     "elapsed": 1604,
     "status": "ok",
     "timestamp": 1724966574155,
     "user": {
      "displayName": "Luiz Edu",
      "userId": "11278711956732496560"
     },
     "user_tz": 180
    },
    "id": "Rpc7HKRyAvCI",
    "outputId": "b1d901af-75ee-4776-ed95-d3432ec3aa21"
   },
   "outputs": [
    {
     "name": "stdout",
     "output_type": "stream",
     "text": [
      "[1] \"DataFrame original:\"\n",
      "  id_venda nome_produto vendas custo preco\n",
      "1        1        Lindt    150     5     8\n",
      "2        2      Cadbury    200     3     6\n",
      "3        3    Hershey's    180     4     7\n",
      "4        4        Lindt    120     5     8\n",
      "5        5      Cadbury    170     3     6\n",
      "6        6    Hershey's    190     4     7\n"
     ]
    },
    {
     "data": {
      "image/png": "[encoded data removed]"
     },
     "metadata": {},
     "output_type": "display_data"
    },
    {
     "data": {
      "image/png": "[encoded data removed]"
     },
     "metadata": {},
     "output_type": "display_data"
    }
   ],
   "source": [
    "%%R\n",
    "# Carregar as bibliotecas necessárias\n",
    "library(dplyr)\n",
    "library(ggplot2)\n",
    "\n",
    "# Criar o DataFrame com os dados fornecidos\n",
    "dados <- data.frame(\n",
    "  id_venda = c(1, 2, 3, 4, 5, 6),\n",
    "  nome_produto = c(\"Lindt\", \"Cadbury\", \"Hershey's\", \"Lindt\", \"Cadbury\", \"Hershey's\"),\n",
    "  vendas = c(150, 200, 180, 120, 170, 190),\n",
    "  custo = c(5, 3, 4, 5, 3, 4),\n",
    "  preco = c(8, 6, 7, 8, 6, 7)\n",
    ")\n",
    "\n",
    "# Mostrar o DataFrame\n",
    "print(\"DataFrame original:\")\n",
    "print(dados)\n",
    "\n",
    "# Calcular a soma das vendas por produto\n",
    "soma_vendas <- dados %>%\n",
    "  group_by(nome_produto) %>%\n",
    "  summarise(soma_vendas = sum(vendas))\n",
    "\n",
    "# Calcular o lucro total por produto\n",
    "dados <- dados %>%\n",
    "  mutate(lucro_unitario = preco - custo,\n",
    "         lucro_total = vendas * lucro_unitario)\n",
    "\n",
    "lucro_total <- dados %>%\n",
    "  group_by(nome_produto) %>%\n",
    "  summarise(lucro_total = sum(lucro_total))\n",
    "\n",
    "# Criar gráficos\n",
    "# Gráfico de soma das vendas por produto\n",
    "grafico_vendas <- ggplot(soma_vendas, aes(x = reorder(nome_produto, soma_vendas), y = soma_vendas, fill = nome_produto)) +\n",
    "  geom_bar(stat = \"identity\") +\n",
    "  labs(title = \"Soma das Vendas por Produto\", x = \"Produto\", y = \"Soma das Vendas\") +\n",
    "  theme_minimal() +\n",
    "  coord_flip()\n",
    "\n",
    "# Gráfico de lucro total por produto\n",
    "grafico_lucro <- ggplot(lucro_total, aes(x = reorder(nome_produto, lucro_total), y = lucro_total, fill = nome_produto)) +\n",
    "  geom_bar(stat = \"identity\") +\n",
    "  labs(title = \"Lucro Total por Produto\", x = \"Produto\", y = \"Lucro Total\") +\n",
    "  theme_minimal() +\n",
    "  coord_flip()\n",
    "\n",
    "# Exibir os gráficos\n",
    "print(grafico_vendas)\n",
    "print(grafico_lucro)\n"
   ]
  }
 ],
 "metadata": {
  "colab": {
   "provenance": []
  },
  "kernelspec": {
   "display_name": "Python 3 (ipykernel)",
   "language": "python",
   "name": "python3"
  },
  "language_info": {
   "codemirror_mode": {
    "name": "ipython",
    "version": 3
   },
   "file_extension": ".py",
   "mimetype": "text/x-python",
   "name": "python",
   "nbconvert_exporter": "python",
   "pygments_lexer": "ipython3",
   "version": "3.12.3"
  }
 },
 "nbformat": 4,
 "nbformat_minor": 4
}
