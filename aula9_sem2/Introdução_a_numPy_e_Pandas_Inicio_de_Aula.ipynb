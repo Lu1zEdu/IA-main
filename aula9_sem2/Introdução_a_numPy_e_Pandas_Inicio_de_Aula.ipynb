{
 "cells": [
  {
   "cell_type": "markdown",
   "metadata": {
    "id": "24Yl1Jh5Txum"
   },
   "source": [
    "# Introdução a numPy e Pandas\n",
    "pandas e numpy são bibliotecas essenciais para análise de dados em Python. numpy fornece suporte para arrays eficientes e operações matemáticas, enquanto pandas usa essa base para trabalhar com dados estruturados em tabelas, facilitando a manipulação, análise e limpeza dos dados."
   ]
  },
  {
   "cell_type": "markdown",
   "metadata": {
    "id": "LiU74UOBTt0g"
   },
   "source": [
    "## Import das Bibliotecas"
   ]
  },
  {
   "cell_type": "code",
   "execution_count": null,
   "metadata": {
    "id": "jIvw2gdMPXpE"
   },
   "outputs": [],
   "source": [
    "#Import das bibliotecas\n",
    "\n",
    "import numpy as np\n",
    "import pandas as pd"
   ]
  },
  {
   "cell_type": "markdown",
   "metadata": {
    "id": "N0SClOa-VvzI"
   },
   "source": [
    "## numPy\n",
    "O numpy é uma biblioteca fundamental para computação numérica em Python. Ela fornece suporte para arrays multidimensionais, que permitem armazenar e manipular grandes volumes de dados de forma eficiente. Além disso, oferece funções matemáticas de alto desempenho para cálculos científicos e análises complexas."
   ]
  },
  {
   "cell_type": "markdown",
   "metadata": {
    "id": "YFiDexmoT2vi"
   },
   "source": [
    "### Criação de um ndarray"
   ]
  },
  {
   "cell_type": "markdown",
   "metadata": {
    "id": "Hpp8-Ax32PEz"
   },
   "source": [
    "Um ndarray (N-dimensional array) é o principal objeto da biblioteca numpy. Ele é uma estrutura de dados que armazena elementos de forma multidimensional em um array de tamanho fixo, onde todos os elementos devem ser do mesmo tipo (como inteiros, floats, etc.). O ndarray é altamente eficiente para operações matemáticas e computacionais."
   ]
  },
  {
   "cell_type": "code",
   "execution_count": 7,
   "metadata": {
    "id": "YYsgWkgzPcoD"
   },
   "outputs": [
    {
     "ename": "NameError",
     "evalue": "name 'np' is not defined",
     "output_type": "error",
     "traceback": [
      "\u001b[1;31m---------------------------------------------------------------------------\u001b[0m",
      "\u001b[1;31mNameError\u001b[0m                                 Traceback (most recent call last)",
      "Cell \u001b[1;32mIn[7], line 2\u001b[0m\n\u001b[0;32m      1\u001b[0m \u001b[38;5;66;03m#Vamos criar um ndarray simples\u001b[39;00m\n\u001b[1;32m----> 2\u001b[0m arr \u001b[38;5;241m=\u001b[39m \u001b[43mnp\u001b[49m\u001b[38;5;241m.\u001b[39marray( [\n\u001b[0;32m      3\u001b[0m     [\u001b[38;5;241m5\u001b[39m , \u001b[38;5;241m6\u001b[39m , \u001b[38;5;241m7\u001b[39m , \u001b[38;5;241m8\u001b[39m], \n\u001b[0;32m      4\u001b[0m     [\u001b[38;5;241m8\u001b[39m ,\u001b[38;5;241m8\u001b[39m , \u001b[38;5;241m8\u001b[39m , \u001b[38;5;241m8\u001b[39m ],\n\u001b[0;32m      5\u001b[0m     [\u001b[38;5;241m1\u001b[39m , \u001b[38;5;241m1\u001b[39m , \u001b[38;5;241m1\u001b[39m , \u001b[38;5;241m1\u001b[39m]\n\u001b[0;32m      6\u001b[0m ])\n\u001b[0;32m      8\u001b[0m \u001b[38;5;28mprint\u001b[39m(arr)\n",
      "\u001b[1;31mNameError\u001b[0m: name 'np' is not defined"
     ]
    }
   ],
   "source": [
    "#Vamos criar um ndarray simples\n",
    "arr = np.array( [\n",
    "    [5 , 6 , 7 , 8], \n",
    "    [8 ,8 , 8 , 8 ],\n",
    "    [1 , 1 , 1 , 1]\n",
    "])\n",
    "\n",
    "print(arr)"
   ]
  },
  {
   "cell_type": "markdown",
   "metadata": {
    "id": "bhhNulPWUAq5"
   },
   "source": [
    "### Operações Matemáticas"
   ]
  },
  {
   "cell_type": "code",
   "execution_count": null,
   "metadata": {
    "id": "S5FEoqztUF3P"
   },
   "outputs": [],
   "source": [
    "#Multiplicação do ndarray por 2\n",
    "\n"
   ]
  },
  {
   "cell_type": "code",
   "execution_count": null,
   "metadata": {
    "id": "us-u3CdWUIdD"
   },
   "outputs": [],
   "source": [
    "#Subtração do ndarray por 5\n",
    "\n"
   ]
  },
  {
   "cell_type": "code",
   "execution_count": null,
   "metadata": {
    "id": "c_vfDuqKUKq-"
   },
   "outputs": [],
   "source": [
    "#Multiplicação de dois ndarray\n",
    "\n"
   ]
  },
  {
   "cell_type": "markdown",
   "metadata": {
    "id": "EmSjeLoZUN_O"
   },
   "source": [
    "### Seleção, Indexação e Fatiamento"
   ]
  },
  {
   "cell_type": "code",
   "execution_count": null,
   "metadata": {
    "id": "neGQlquCUQ5G"
   },
   "outputs": [],
   "source": [
    "#Selecionar todos os valores menores do que 3\n",
    "\n"
   ]
  },
  {
   "cell_type": "code",
   "execution_count": null,
   "metadata": {
    "id": "VD9BDXCgUP6N"
   },
   "outputs": [],
   "source": [
    "#retornar os três primeiro valores do primeiro array\n",
    "\n"
   ]
  },
  {
   "cell_type": "code",
   "execution_count": null,
   "metadata": {
    "id": "KEWE9xbhRtNr"
   },
   "outputs": [],
   "source": [
    "#Criar um ndarray de nomes\n",
    "\n"
   ]
  },
  {
   "cell_type": "code",
   "execution_count": null,
   "metadata": {
    "id": "cwcXpqFgR7bn"
   },
   "outputs": [],
   "source": [
    "#testar condição de um nome\n",
    "\n"
   ]
  },
  {
   "cell_type": "code",
   "execution_count": null,
   "metadata": {
    "id": "yEszdyKESHMC"
   },
   "outputs": [],
   "source": [
    "#relacionar a condição do ndarray de nomes com o de valores\n",
    "\n"
   ]
  },
  {
   "cell_type": "markdown",
   "metadata": {
    "id": "61151krdVWHR"
   },
   "source": [
    "### Funções Embutidas"
   ]
  },
  {
   "cell_type": "code",
   "execution_count": null,
   "metadata": {
    "id": "dpwn_Ps8Vaam"
   },
   "outputs": [],
   "source": [
    "#Função embutida para somar os valores de um ndarray\n",
    "\n"
   ]
  },
  {
   "cell_type": "code",
   "execution_count": null,
   "metadata": {
    "id": "2Sj77UgDVlTC"
   },
   "outputs": [],
   "source": [
    "#Função embutida para realizar a média dos valores de um ndarray\n",
    "\n"
   ]
  },
  {
   "cell_type": "code",
   "execution_count": null,
   "metadata": {
    "id": "nlGfSr6kVpwj"
   },
   "outputs": [],
   "source": [
    "#Função embutida para retornar o valor máximo de um ndarray\n",
    "\n"
   ]
  },
  {
   "cell_type": "markdown",
   "metadata": {
    "id": "4_ZlqtRYWli9"
   },
   "source": [
    "## Pandas\n",
    "Pandas é uma biblioteca de código aberto para análise de dados em Python. Ela é usada principalmente para manipulação, limpeza e análise de dados estruturados, como tabelas (similares às planilhas do Excel). Pandas fornece estruturas de dados eficientes e flexíveis, chamadas de Series (colunas unidimensionais) e DataFrames (tabelas bidimensionais)."
   ]
  },
  {
   "cell_type": "code",
   "execution_count": null,
   "metadata": {
    "id": "R8AY9q7_WmnV"
   },
   "outputs": [],
   "source": [
    "#Dataframe nota dos alunos\n",
    "data = {\n",
    "    'Aluno': ['Robb', 'Jon', 'Arya'],\n",
    "    'Matemática': [85, 90, 95],\n",
    "    'História': [88, 92, 80],\n",
    "    'Ciências': [90, 85, 88]\n",
    "}\n",
    "\n",
    "#realizar a leitura de um Dataframe\n",
    "\n",
    "#Exibir os 5 primeiros registros\n",
    "\n"
   ]
  },
  {
   "cell_type": "markdown",
   "metadata": {
    "id": "LHugsZV44NNo"
   },
   "source": [
    "Um DataFrame do pandas é uma tabela composta por dados organizados em linhas e colunas, com cada coluna tendo seu próprio tipo de dado. O índice ajuda a identificar e acessar as linhas de forma eficiente."
   ]
  },
  {
   "cell_type": "markdown",
   "metadata": {
    "id": "Z4wC2Hsryis4"
   },
   "source": [
    "### Operações Matemáticas"
   ]
  },
  {
   "cell_type": "code",
   "execution_count": null,
   "metadata": {
    "id": "44ilCv1kylKI"
   },
   "outputs": [],
   "source": [
    "#Multiplicação de uma coluna de um Dataframe pandas\n",
    "\n"
   ]
  },
  {
   "cell_type": "code",
   "execution_count": null,
   "metadata": {
    "id": "UaSfeWIEytoZ"
   },
   "outputs": [],
   "source": [
    "#Divisão de uma coluna de um Dataframe pandas\n",
    "\n"
   ]
  },
  {
   "cell_type": "code",
   "execution_count": null,
   "metadata": {
    "id": "YwVFdj1EywqF"
   },
   "outputs": [],
   "source": [
    "#Subtração de uma coluna de um Dataframe pandas\n",
    "\n"
   ]
  },
  {
   "cell_type": "markdown",
   "metadata": {
    "id": "WnN0ouEHy3RC"
   },
   "source": [
    "### Seleção"
   ]
  },
  {
   "cell_type": "code",
   "execution_count": null,
   "metadata": {
    "id": "oR_zYcIoy4sJ"
   },
   "outputs": [],
   "source": [
    "#Selecionar dados de uma coluna\n",
    "\n"
   ]
  },
  {
   "cell_type": "code",
   "execution_count": null,
   "metadata": {
    "id": "Gf8W9ZLIzGQ_"
   },
   "outputs": [],
   "source": [
    "#Selecionar duas colunas\n",
    "\n"
   ]
  },
  {
   "cell_type": "markdown",
   "metadata": {
    "id": "rFNeuFdPzOxa"
   },
   "source": [
    "### Filtros"
   ]
  },
  {
   "cell_type": "markdown",
   "metadata": {
    "id": "5IkekE1G4t1-"
   },
   "source": [
    "O **iloc** é um método do pandas usado para acessar dados de um DataFrame ou Series com base na posição das linhas e colunas, ou seja, por índices numéricos. O nome \"iloc\" vem de integer location, o que significa que ele utiliza números inteiros para identificar a localização dos dados"
   ]
  },
  {
   "cell_type": "code",
   "execution_count": null,
   "metadata": {
    "id": "5MWXOdn6zRsx"
   },
   "outputs": [],
   "source": [
    "#Selecione a primeira posição das linhas\n",
    "\n"
   ]
  },
  {
   "cell_type": "code",
   "execution_count": null,
   "metadata": {
    "id": "25RQbHoozy4l"
   },
   "outputs": [],
   "source": [
    "#Selecione as notas de um Aluno\n",
    "\n"
   ]
  },
  {
   "cell_type": "markdown",
   "metadata": {
    "id": "HHD0FW-r5E_y"
   },
   "source": [
    "O loc é um método do pandas utilizado para acessar dados em um DataFrame ou Series com base no rótulo das linhas e colunas, ou seja, por nomes e rótulos, ao contrário do iloc que usa posições numéricas."
   ]
  },
  {
   "cell_type": "code",
   "execution_count": null,
   "metadata": {
    "id": "atVmT5xDza5J"
   },
   "outputs": [],
   "source": [
    "#Selecione as notas de um Aluno com loc\n",
    "\n"
   ]
  },
  {
   "cell_type": "code",
   "execution_count": null,
   "metadata": {
    "id": "V5cXbYwTzxrY"
   },
   "outputs": [],
   "source": [
    "#Alteração de um valor de coluna baseado em uma condição\n",
    "\n"
   ]
  },
  {
   "cell_type": "code",
   "execution_count": null,
   "metadata": {
    "id": "N81G2aOrz41N"
   },
   "outputs": [],
   "source": [
    "#Visualizar o Dataframe\n",
    "\n"
   ]
  },
  {
   "cell_type": "markdown",
   "metadata": {
    "id": "FnEHnDGm0MX6"
   },
   "source": [
    "### Funções Embutidas"
   ]
  },
  {
   "cell_type": "code",
   "execution_count": null,
   "metadata": {
    "id": "zhMXuL401dsm"
   },
   "outputs": [],
   "source": [
    "#Qual a média da turma na matéria de Matemática?\n",
    "\n"
   ]
  },
  {
   "cell_type": "code",
   "execution_count": null,
   "metadata": {
    "id": "0LOkYESm0Oxd"
   },
   "outputs": [],
   "source": [
    "#Qual a média geral do Aluno chamado Robb\n",
    "\n"
   ]
  }
 ],
 "metadata": {
  "colab": {
   "provenance": []
  },
  "kernelspec": {
   "display_name": "Python 3 (ipykernel)",
   "language": "python",
   "name": "python3"
  },
  "language_info": {
   "codemirror_mode": {
    "name": "ipython",
    "version": 3
   },
   "file_extension": ".py",
   "mimetype": "text/x-python",
   "name": "python",
   "nbconvert_exporter": "python",
   "pygments_lexer": "ipython3",
   "version": "3.12.3"
  }
 },
 "nbformat": 4,
 "nbformat_minor": 4
}
